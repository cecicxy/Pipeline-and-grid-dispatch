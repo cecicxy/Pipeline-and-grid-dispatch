{
 "cells": [
  {
   "cell_type": "markdown",
   "metadata": {},
   "source": [
    "导包，gdal包依靠pip/conda无法直接安装，先下载whl文件，手动安装后，先导gdal再导其他包"
   ]
  },
  {
   "cell_type": "code",
   "execution_count": 12,
   "metadata": {},
   "outputs": [
    {
     "name": "stdout",
     "output_type": "stream",
     "text": [
      "Looking in indexes: https://pypi.tuna.tsinghua.edu.cn/simple\n",
      "Processing d:\\gdal-3.4.3-cp310-cp310-win_amd64.whl\n",
      "Installing collected packages: GDAL\n",
      "  Attempting uninstall: GDAL\n",
      "    Found existing installation: GDAL 3.4.3\n",
      "    Uninstalling GDAL-3.4.3:\n",
      "      Successfully uninstalled GDAL-3.4.3\n",
      "Successfully installed GDAL-3.4.3\n"
     ]
    }
   ],
   "source": [
    "!pip install --force-reinstall \"D:/GDAL-3.4.3-cp310-cp310-win_amd64.whl\""
   ]
  },
  {
   "cell_type": "code",
   "execution_count": 1,
   "metadata": {},
   "outputs": [],
   "source": [
    "from osgeo import gdal"
   ]
  },
  {
   "cell_type": "code",
   "execution_count": 2,
   "metadata": {},
   "outputs": [],
   "source": [
    "import numpy as np\n",
    "import pandas as pd\n",
    "import matplotlib.pyplot as plt\n",
    "import geopandas as gpd\n",
    "import math\n",
    "from tqdm import tqdm\n",
    "import shapely  \n",
    "from shapely.geometry import LineString, Point, Polygon\n",
    "import gc"
   ]
  },
  {
   "cell_type": "markdown",
   "metadata": {},
   "source": [
    "cost matrix = dem_mean+dem_var+ecosystem service value(landuse data)+economy value(GDP distribution data)\\\n",
    "《遥感与 GIS 在油气管道线路选择中的应用研究》\n",
    "网格大小：0.2\\*0.2°（两万米）"
   ]
  },
  {
   "cell_type": "markdown",
   "metadata": {},
   "source": [
    "处理mesh"
   ]
  },
  {
   "cell_type": "code",
   "execution_count": 4,
   "metadata": {},
   "outputs": [
    {
     "data": {
      "text/html": [
       "<div>\n",
       "<style scoped>\n",
       "    .dataframe tbody tr th:only-of-type {\n",
       "        vertical-align: middle;\n",
       "    }\n",
       "\n",
       "    .dataframe tbody tr th {\n",
       "        vertical-align: top;\n",
       "    }\n",
       "\n",
       "    .dataframe thead th {\n",
       "        text-align: right;\n",
       "    }\n",
       "</style>\n",
       "<table border=\"1\" class=\"dataframe\">\n",
       "  <thead>\n",
       "    <tr style=\"text-align: right;\">\n",
       "      <th></th>\n",
       "      <th>id</th>\n",
       "      <th>left</th>\n",
       "      <th>top</th>\n",
       "      <th>right</th>\n",
       "      <th>bottom</th>\n",
       "      <th>cn_adcode</th>\n",
       "      <th>geometry</th>\n",
       "    </tr>\n",
       "  </thead>\n",
       "  <tbody>\n",
       "    <tr>\n",
       "      <th>0</th>\n",
       "      <td>1570</td>\n",
       "      <td>74.6</td>\n",
       "      <td>37.2</td>\n",
       "      <td>74.8</td>\n",
       "      <td>37.0</td>\n",
       "      <td>100000</td>\n",
       "      <td>POLYGON ((74.60000 37.20000, 74.80000 37.20000...</td>\n",
       "    </tr>\n",
       "    <tr>\n",
       "      <th>1</th>\n",
       "      <td>1569</td>\n",
       "      <td>74.6</td>\n",
       "      <td>37.4</td>\n",
       "      <td>74.8</td>\n",
       "      <td>37.2</td>\n",
       "      <td>100000</td>\n",
       "      <td>POLYGON ((74.60000 37.40000, 74.80000 37.40000...</td>\n",
       "    </tr>\n",
       "    <tr>\n",
       "      <th>2</th>\n",
       "      <td>1564</td>\n",
       "      <td>74.6</td>\n",
       "      <td>38.4</td>\n",
       "      <td>74.8</td>\n",
       "      <td>38.2</td>\n",
       "      <td>100000</td>\n",
       "      <td>POLYGON ((74.60000 38.40000, 74.80000 38.40000...</td>\n",
       "    </tr>\n",
       "    <tr>\n",
       "      <th>3</th>\n",
       "      <td>1563</td>\n",
       "      <td>74.6</td>\n",
       "      <td>38.6</td>\n",
       "      <td>74.8</td>\n",
       "      <td>38.4</td>\n",
       "      <td>100000</td>\n",
       "      <td>POLYGON ((74.60000 38.60000, 74.80000 38.60000...</td>\n",
       "    </tr>\n",
       "    <tr>\n",
       "      <th>4</th>\n",
       "      <td>1562</td>\n",
       "      <td>74.6</td>\n",
       "      <td>38.8</td>\n",
       "      <td>74.8</td>\n",
       "      <td>38.6</td>\n",
       "      <td>100000</td>\n",
       "      <td>POLYGON ((74.60000 38.80000, 74.80000 38.80000...</td>\n",
       "    </tr>\n",
       "  </tbody>\n",
       "</table>\n",
       "</div>"
      ],
      "text/plain": [
       "     id  left   top  right  bottom cn_adcode   \n",
       "0  1570  74.6  37.2   74.8    37.0    100000  \\\n",
       "1  1569  74.6  37.4   74.8    37.2    100000   \n",
       "2  1564  74.6  38.4   74.8    38.2    100000   \n",
       "3  1563  74.6  38.6   74.8    38.4    100000   \n",
       "4  1562  74.6  38.8   74.8    38.6    100000   \n",
       "\n",
       "                                            geometry  \n",
       "0  POLYGON ((74.60000 37.20000, 74.80000 37.20000...  \n",
       "1  POLYGON ((74.60000 37.40000, 74.80000 37.40000...  \n",
       "2  POLYGON ((74.60000 38.40000, 74.80000 38.40000...  \n",
       "3  POLYGON ((74.60000 38.60000, 74.80000 38.60000...  \n",
       "4  POLYGON ((74.60000 38.80000, 74.80000 38.80000...  "
      ]
     },
     "execution_count": 4,
     "metadata": {},
     "output_type": "execute_result"
    }
   ],
   "source": [
    "mesh_intersect_all= gpd.read_file('../data/cost_matrix/mesh/intersect_mesh_country.gpkg',layer='intersect_mesh_country',encoding='utf-8')\n",
    "mesh_intersect_all.head()"
   ]
  },
  {
   "cell_type": "code",
   "execution_count": 14,
   "metadata": {},
   "outputs": [
    {
     "data": {
      "text/plain": [
       "(25105, 7)"
      ]
     },
     "execution_count": 14,
     "metadata": {},
     "output_type": "execute_result"
    }
   ],
   "source": [
    "mesh_intersect=mesh_intersect_all[mesh_intersect_all['cn_adcode']=='100000']\n",
    "mesh_intersect.shape\n"
   ]
  },
  {
   "cell_type": "code",
   "execution_count": 15,
   "metadata": {},
   "outputs": [
    {
     "data": {
      "text/html": [
       "<div>\n",
       "<style scoped>\n",
       "    .dataframe tbody tr th:only-of-type {\n",
       "        vertical-align: middle;\n",
       "    }\n",
       "\n",
       "    .dataframe tbody tr th {\n",
       "        vertical-align: top;\n",
       "    }\n",
       "\n",
       "    .dataframe thead th {\n",
       "        text-align: right;\n",
       "    }\n",
       "</style>\n",
       "<table border=\"1\" class=\"dataframe\">\n",
       "  <thead>\n",
       "    <tr style=\"text-align: right;\">\n",
       "      <th></th>\n",
       "      <th>left</th>\n",
       "      <th>top</th>\n",
       "      <th>right</th>\n",
       "      <th>bottom</th>\n",
       "      <th>geometry</th>\n",
       "      <th>id</th>\n",
       "    </tr>\n",
       "  </thead>\n",
       "  <tbody>\n",
       "    <tr>\n",
       "      <th>0</th>\n",
       "      <td>74.6</td>\n",
       "      <td>37.2</td>\n",
       "      <td>74.8</td>\n",
       "      <td>37.0</td>\n",
       "      <td>POLYGON ((74.60000 37.20000, 74.80000 37.20000...</td>\n",
       "      <td>0</td>\n",
       "    </tr>\n",
       "    <tr>\n",
       "      <th>1</th>\n",
       "      <td>74.6</td>\n",
       "      <td>37.4</td>\n",
       "      <td>74.8</td>\n",
       "      <td>37.2</td>\n",
       "      <td>POLYGON ((74.60000 37.40000, 74.80000 37.40000...</td>\n",
       "      <td>1</td>\n",
       "    </tr>\n",
       "    <tr>\n",
       "      <th>2</th>\n",
       "      <td>74.6</td>\n",
       "      <td>38.4</td>\n",
       "      <td>74.8</td>\n",
       "      <td>38.2</td>\n",
       "      <td>POLYGON ((74.60000 38.40000, 74.80000 38.40000...</td>\n",
       "      <td>2</td>\n",
       "    </tr>\n",
       "    <tr>\n",
       "      <th>3</th>\n",
       "      <td>74.6</td>\n",
       "      <td>38.6</td>\n",
       "      <td>74.8</td>\n",
       "      <td>38.4</td>\n",
       "      <td>POLYGON ((74.60000 38.60000, 74.80000 38.60000...</td>\n",
       "      <td>3</td>\n",
       "    </tr>\n",
       "    <tr>\n",
       "      <th>4</th>\n",
       "      <td>74.6</td>\n",
       "      <td>38.8</td>\n",
       "      <td>74.8</td>\n",
       "      <td>38.6</td>\n",
       "      <td>POLYGON ((74.60000 38.80000, 74.80000 38.80000...</td>\n",
       "      <td>4</td>\n",
       "    </tr>\n",
       "  </tbody>\n",
       "</table>\n",
       "</div>"
      ],
      "text/plain": [
       "   left   top  right  bottom   \n",
       "0  74.6  37.2   74.8    37.0  \\\n",
       "1  74.6  37.4   74.8    37.2   \n",
       "2  74.6  38.4   74.8    38.2   \n",
       "3  74.6  38.6   74.8    38.4   \n",
       "4  74.6  38.8   74.8    38.6   \n",
       "\n",
       "                                            geometry  id  \n",
       "0  POLYGON ((74.60000 37.20000, 74.80000 37.20000...   0  \n",
       "1  POLYGON ((74.60000 37.40000, 74.80000 37.40000...   1  \n",
       "2  POLYGON ((74.60000 38.40000, 74.80000 38.40000...   2  \n",
       "3  POLYGON ((74.60000 38.60000, 74.80000 38.60000...   3  \n",
       "4  POLYGON ((74.60000 38.80000, 74.80000 38.80000...   4  "
      ]
     },
     "execution_count": 15,
     "metadata": {},
     "output_type": "execute_result"
    }
   ],
   "source": [
    "mesh_intersect=mesh_intersect[['left', 'top', 'right', 'bottom','geometry']]\n",
    "#mesh_intersect['middle'] = mesh_intersect['geometry'].apply(lambda x: x.centroid)\n",
    "mesh_intersect['id'] = range(len(mesh_intersect))\n",
    "mesh_intersect.head()"
   ]
  },
  {
   "cell_type": "code",
   "execution_count": 16,
   "metadata": {},
   "outputs": [],
   "source": [
    "mesh_intersect.to_file('../data/cost matrix/mesh/mesh_intersect.gpkg', layer='mesh_intersect', driver=\"GPKG\")\n",
    "# mesh_intersect.to_file('../data/cost matrix/mesh/mesh_intersect.shp', \n",
    "#              driver='ESRI Shapefile',\n",
    "#              encoding='utf-8')"
   ]
  },
  {
   "cell_type": "markdown",
   "metadata": {},
   "source": [
    "qgis->导入dem数据,伪彩色单波段->分区统计栅格数据->矢量图层：mesh_intersect，栅格图层：dem,统计量：mean,std->dem_statistics.gpkg"
   ]
  },
  {
   "cell_type": "code",
   "execution_count": 16,
   "metadata": {},
   "outputs": [
    {
     "name": "stdout",
     "output_type": "stream",
     "text": [
      "EPSG:4326\n"
     ]
    },
    {
     "data": {
      "text/html": [
       "<div>\n",
       "<style scoped>\n",
       "    .dataframe tbody tr th:only-of-type {\n",
       "        vertical-align: middle;\n",
       "    }\n",
       "\n",
       "    .dataframe tbody tr th {\n",
       "        vertical-align: top;\n",
       "    }\n",
       "\n",
       "    .dataframe thead th {\n",
       "        text-align: right;\n",
       "    }\n",
       "</style>\n",
       "<table border=\"1\" class=\"dataframe\">\n",
       "  <thead>\n",
       "    <tr style=\"text-align: right;\">\n",
       "      <th></th>\n",
       "      <th>left</th>\n",
       "      <th>top</th>\n",
       "      <th>right</th>\n",
       "      <th>bottom</th>\n",
       "      <th>id</th>\n",
       "      <th>_mean</th>\n",
       "      <th>_stdev</th>\n",
       "      <th>geometry</th>\n",
       "    </tr>\n",
       "  </thead>\n",
       "  <tbody>\n",
       "    <tr>\n",
       "      <th>0</th>\n",
       "      <td>74.6</td>\n",
       "      <td>37.2</td>\n",
       "      <td>74.8</td>\n",
       "      <td>37.0</td>\n",
       "      <td>0</td>\n",
       "      <td>4761.751111</td>\n",
       "      <td>360.955229</td>\n",
       "      <td>POLYGON ((74.60000 37.20000, 74.80000 37.20000...</td>\n",
       "    </tr>\n",
       "    <tr>\n",
       "      <th>1</th>\n",
       "      <td>74.6</td>\n",
       "      <td>37.4</td>\n",
       "      <td>74.8</td>\n",
       "      <td>37.2</td>\n",
       "      <td>1</td>\n",
       "      <td>4729.630650</td>\n",
       "      <td>474.505025</td>\n",
       "      <td>POLYGON ((74.60000 37.40000, 74.80000 37.40000...</td>\n",
       "    </tr>\n",
       "    <tr>\n",
       "      <th>2</th>\n",
       "      <td>74.6</td>\n",
       "      <td>38.4</td>\n",
       "      <td>74.8</td>\n",
       "      <td>38.2</td>\n",
       "      <td>2</td>\n",
       "      <td>4369.292113</td>\n",
       "      <td>265.297540</td>\n",
       "      <td>POLYGON ((74.60000 38.40000, 74.80000 38.40000...</td>\n",
       "    </tr>\n",
       "    <tr>\n",
       "      <th>3</th>\n",
       "      <td>74.6</td>\n",
       "      <td>38.6</td>\n",
       "      <td>74.8</td>\n",
       "      <td>38.4</td>\n",
       "      <td>3</td>\n",
       "      <td>4421.485767</td>\n",
       "      <td>261.390972</td>\n",
       "      <td>POLYGON ((74.60000 38.60000, 74.80000 38.60000...</td>\n",
       "    </tr>\n",
       "    <tr>\n",
       "      <th>4</th>\n",
       "      <td>74.6</td>\n",
       "      <td>38.8</td>\n",
       "      <td>74.8</td>\n",
       "      <td>38.6</td>\n",
       "      <td>4</td>\n",
       "      <td>4464.096521</td>\n",
       "      <td>323.191762</td>\n",
       "      <td>POLYGON ((74.60000 38.80000, 74.80000 38.80000...</td>\n",
       "    </tr>\n",
       "  </tbody>\n",
       "</table>\n",
       "</div>"
      ],
      "text/plain": [
       "   left   top  right  bottom  id        _mean      _stdev   \n",
       "0  74.6  37.2   74.8    37.0   0  4761.751111  360.955229  \\\n",
       "1  74.6  37.4   74.8    37.2   1  4729.630650  474.505025   \n",
       "2  74.6  38.4   74.8    38.2   2  4369.292113  265.297540   \n",
       "3  74.6  38.6   74.8    38.4   3  4421.485767  261.390972   \n",
       "4  74.6  38.8   74.8    38.6   4  4464.096521  323.191762   \n",
       "\n",
       "                                            geometry  \n",
       "0  POLYGON ((74.60000 37.20000, 74.80000 37.20000...  \n",
       "1  POLYGON ((74.60000 37.40000, 74.80000 37.40000...  \n",
       "2  POLYGON ((74.60000 38.40000, 74.80000 38.40000...  \n",
       "3  POLYGON ((74.60000 38.60000, 74.80000 38.60000...  \n",
       "4  POLYGON ((74.60000 38.80000, 74.80000 38.80000...  "
      ]
     },
     "execution_count": 16,
     "metadata": {},
     "output_type": "execute_result"
    }
   ],
   "source": [
    "dem = gpd.read_file('../data/cost_matrix/dem/dem_statistics.gpkg', \n",
    "                     layer='dem_statistics',\n",
    "                     encoding='utf-8')\n",
    "print(dem.crs) # 查看数据对应的crs\n",
    "dem.head() # 查看前5行\n"
   ]
  },
  {
   "cell_type": "markdown",
   "metadata": {},
   "source": [
    "查看地形五分界数对应的归一化值"
   ]
  },
  {
   "cell_type": "code",
   "execution_count": 10,
   "metadata": {},
   "outputs": [
    {
     "data": {
      "text/plain": [
       "0.18379811650292163"
      ]
     },
     "execution_count": 10,
     "metadata": {},
     "output_type": "execute_result"
    }
   ],
   "source": [
    "(1000-min(dem['_mean']))/(max(dem['_mean'])-min(dem['_mean']))"
   ]
  },
  {
   "cell_type": "code",
   "execution_count": 11,
   "metadata": {},
   "outputs": [
    {
     "data": {
      "text/plain": [
       "0.3452633702975141"
      ]
     },
     "execution_count": 11,
     "metadata": {},
     "output_type": "execute_result"
    }
   ],
   "source": [
    "(2000-min(dem['_mean']))/(max(dem['_mean'])-min(dem['_mean']))"
   ]
  },
  {
   "cell_type": "code",
   "execution_count": 8,
   "metadata": {},
   "outputs": [
    {
     "data": {
      "text/plain": [
       "0.668193877886699"
      ]
     },
     "execution_count": 8,
     "metadata": {},
     "output_type": "execute_result"
    }
   ],
   "source": [
    "(4000-min(dem['_mean']))/(max(dem['_mean'])-min(dem['_mean']))\n"
   ]
  },
  {
   "cell_type": "code",
   "execution_count": 9,
   "metadata": {},
   "outputs": [
    {
     "data": {
      "text/plain": [
       "0.991124385475884"
      ]
     },
     "execution_count": 9,
     "metadata": {},
     "output_type": "execute_result"
    }
   ],
   "source": [
    "(6000-min(dem['_mean']))/(max(dem['_mean'])-min(dem['_mean']))\n"
   ]
  },
  {
   "cell_type": "code",
   "execution_count": 19,
   "metadata": {},
   "outputs": [
    {
     "data": {
      "text/plain": [
       "103"
      ]
     },
     "execution_count": 19,
     "metadata": {},
     "output_type": "execute_result"
    }
   ],
   "source": [
    "dem['_mean'].isnull().sum()\n"
   ]
  },
  {
   "cell_type": "code",
   "execution_count": 20,
   "metadata": {},
   "outputs": [
    {
     "data": {
      "text/plain": [
       "103"
      ]
     },
     "execution_count": 20,
     "metadata": {},
     "output_type": "execute_result"
    }
   ],
   "source": [
    "dem['_stdev'].isnull().sum()"
   ]
  },
  {
   "cell_type": "markdown",
   "metadata": {},
   "source": [
    "简单填充法补全缺失"
   ]
  },
  {
   "cell_type": "code",
   "execution_count": 17,
   "metadata": {},
   "outputs": [
    {
     "data": {
      "text/plain": [
       "0"
      ]
     },
     "execution_count": 17,
     "metadata": {},
     "output_type": "execute_result"
    }
   ],
   "source": [
    "dem['_mean'].fillna(method='ffill', inplace=True)\n",
    "dem['_stdev'].fillna(method='ffill', inplace=True)\n",
    "dem['_mean'].isnull().sum()"
   ]
  },
  {
   "cell_type": "markdown",
   "metadata": {},
   "source": [
    "用土地利用数据赋值生态系统服务价值"
   ]
  },
  {
   "cell_type": "code",
   "execution_count": 7,
   "metadata": {},
   "outputs": [],
   "source": [
    "# 打开原始栅格文件\n",
    "ds = gdal.Open('../data/cost_matrix/land_utilization/landuse_raw.tif', gdal.GA_Update)\n",
    "\n",
    "# 读取第一个波段的数据\n",
    "band = ds.GetRasterBand(1)\n",
    "data = band.ReadAsArray()"
   ]
  },
  {
   "cell_type": "code",
   "execution_count": 8,
   "metadata": {},
   "outputs": [
    {
     "data": {
      "text/plain": [
       "(135079, 161378)"
      ]
     },
     "execution_count": 8,
     "metadata": {},
     "output_type": "execute_result"
    }
   ],
   "source": [
    "data.shape"
   ]
  },
  {
   "cell_type": "code",
   "execution_count": 10,
   "metadata": {},
   "outputs": [
    {
     "data": {
      "text/plain": [
       "array([ 2,  3, 10], dtype=uint8)"
      ]
     },
     "execution_count": 10,
     "metadata": {},
     "output_type": "execute_result"
    }
   ],
   "source": [
    "np.unique(data[20000:21000,40000:41000])"
   ]
  },
  {
   "cell_type": "markdown",
   "metadata": {},
   "source": [
    "直接整体修改内存不足"
   ]
  },
  {
   "cell_type": "code",
   "execution_count": 9,
   "metadata": {},
   "outputs": [
    {
     "ename": "MemoryError",
     "evalue": "Unable to allocate 81.2 GiB for an array with shape (135079, 161378) and data type float32",
     "output_type": "error",
     "traceback": [
      "\u001b[1;31m---------------------------------------------------------------------------\u001b[0m",
      "\u001b[1;31mMemoryError\u001b[0m                               Traceback (most recent call last)",
      "Cell \u001b[1;32mIn[9], line 2\u001b[0m\n\u001b[0;32m      1\u001b[0m \u001b[38;5;66;03m#不同土地利用类型的碳足迹大小顺序为:居民点及工矿用地>交通用地>未利用地及特殊用地>农用地和水利用地\u001b[39;00m\n\u001b[1;32m----> 2\u001b[0m data \u001b[38;5;241m=\u001b[39m \u001b[43mdata\u001b[49m\u001b[38;5;241;43m.\u001b[39;49m\u001b[43mastype\u001b[49m\u001b[43m(\u001b[49m\u001b[43mnp\u001b[49m\u001b[38;5;241;43m.\u001b[39;49m\u001b[43mfloat32\u001b[49m\u001b[43m)\u001b[49m\n\u001b[0;32m      3\u001b[0m data[data \u001b[38;5;241m==\u001b[39m \u001b[38;5;241m1\u001b[39m] \u001b[38;5;241m=\u001b[39m   \u001b[38;5;241m0.3\u001b[39m  \u001b[38;5;66;03m#农田\u001b[39;00m\n\u001b[0;32m      4\u001b[0m data[data \u001b[38;5;241m==\u001b[39m \u001b[38;5;241m2\u001b[39m] \u001b[38;5;241m=\u001b[39m   \u001b[38;5;241m0.5\u001b[39m  \u001b[38;5;66;03m#森林\u001b[39;00m\n",
      "\u001b[1;31mMemoryError\u001b[0m: Unable to allocate 81.2 GiB for an array with shape (135079, 161378) and data type float32"
     ]
    }
   ],
   "source": [
    "#不同土地利用类型的碳足迹大小顺序为:居民点及工矿用地>交通用地>未利用地及特殊用地>农用地和水利用地\n",
    "data = data.astype(np.float32)\n",
    "data[data == 1] =   0.3  #农田\n",
    "data[data == 2] =   0.5  #森林\n",
    "data[data == 3] =   0.3  #灌木\n",
    "data[data == 4] =   0.2  #草地\n",
    "data[data == 5] =   1    #水体\n",
    "data[data == 6] =   1    #冰雪\n",
    "data[data == 7] =   0.2  #裸地\n",
    "data[data == 8] =   1    #不透水面\n",
    "data[data == 9] =   1    #湿地"
   ]
  },
  {
   "cell_type": "markdown",
   "metadata": {},
   "source": [
    "采用创建新栅格数据，赋值浮点数内存仍旧不足"
   ]
  },
  {
   "cell_type": "code",
   "execution_count": 5,
   "metadata": {},
   "outputs": [
    {
     "name": "stdout",
     "output_type": "stream",
     "text": [
      "创建文件失败\n"
     ]
    }
   ],
   "source": [
    "# 打开原始栅格文件\n",
    "ds = gdal.Open('../data/cost_matrix/land_utilization/landuse_raw.tif')\n",
    "\n",
    "# 创建一个新的栅格文件，数据类型为GDT_Float32\n",
    "driver = gdal.GetDriverByName('GTiff')\n",
    "new_ds = driver.Create('../data/cost_matrix/land_utilization/landuse_new.tif', ds.RasterXSize, ds.RasterYSize, 1, gdal.GDT_Float32)\n",
    "if new_ds is None:\n",
    "    print('创建文件失败')\n",
    "else:    \n",
    "\n",
    "    # 设置新文件的地理变换和投影\n",
    "    new_ds.SetGeoTransform(ds.GetGeoTransform())\n",
    "    new_ds.SetProjection(ds.GetProjection())\n",
    "\n",
    "    # 获取新文件的第一个波段\n",
    "    new_band = new_ds.GetRasterBand(1)\n",
    "\n",
    "    # 获取原始文件的第一个波段\n",
    "    band = ds.GetRasterBand(1)\n",
    "\n",
    "    # 获取栅格数据的块大小\n",
    "    block_size = band.GetBlockSize()\n",
    "\n",
    "    # 计算栅格数据的块数\n",
    "    xsize = band.XSize\n",
    "    ysize = band.YSize\n",
    "    xblocks = (xsize // block_size[0]) + (1 if xsize % block_size[0] > 0 else 0)\n",
    "    yblocks = (ysize // block_size[1]) + (1 if ysize % block_size[1] > 0 else 0)\n",
    "\n",
    "    # 分块处理栅格数据\n",
    "    for i in tqdm(range(xblocks)):\n",
    "        for j in range(yblocks):\n",
    "            xoff = i * block_size[0]\n",
    "            yoff = j * block_size[1]\n",
    "            xcount = min(block_size[0], xsize - xoff)\n",
    "            ycount = min(block_size[1], ysize - yoff)\n",
    "            \n",
    "            # 读取一个块的数据\n",
    "            data = band.ReadAsArray(xoff, yoff, xcount, ycount)\n",
    "            \n",
    "            # 修改数据\n",
    "            data[data == 1] =   0.3  #农田\n",
    "            data[data == 2] =   0.5  #森林\n",
    "            data[data == 3] =   0.3  #灌木\n",
    "            data[data == 4] =   0.2  #草地\n",
    "            data[data == 5] =   1    #水体\n",
    "            data[data == 6] =   1    #冰雪\n",
    "            data[data == 7] =   0.2  #裸地\n",
    "            data[data == 8] =   1    #不透水面\n",
    "            data[data == 9] =   1    #湿地\n",
    "            # ... 其他修改 ...\n",
    "            \n",
    "            # 将修改后的数据写回到新文件的块中\n",
    "            new_band.WriteArray(data.astype(np.float32), xoff, yoff)\n",
    "\n",
    "    # 将修改保存到新文件中\n",
    "    new_ds.FlushCache()\n",
    "\n",
    "    # 关闭文件\n",
    "    ds = None\n",
    "    new_ds = None"
   ]
  },
  {
   "cell_type": "markdown",
   "metadata": {},
   "source": [
    "采用分块修改，改变原始数据，但只能赋值整数，因此后续需要除以最大值"
   ]
  },
  {
   "cell_type": "code",
   "execution_count": 3,
   "metadata": {},
   "outputs": [
    {
     "name": "stderr",
     "output_type": "stream",
     "text": [
      "100%|██████████| 316/316 [02:04<00:00,  2.54it/s]\n"
     ]
    }
   ],
   "source": [
    "# 打开原始栅格文件\n",
    "ds = gdal.Open('../data/cost_matrix/land_utilization/raw/landuse_raw.tif', gdal.GA_Update)\n",
    "\n",
    "# 读取第一个波段的数据\n",
    "band = ds.GetRasterBand(1)\n",
    "data = band.ReadAsArray()\n",
    "# 获取栅格数据的块大小\n",
    "block_size = band.GetBlockSize()\n",
    "\n",
    "# 计算栅格数据的块数\n",
    "xsize = band.XSize\n",
    "ysize = band.YSize\n",
    "xblocks = (xsize // block_size[0]) + (1 if xsize % block_size[0] > 0 else 0)\n",
    "yblocks = (ysize // block_size[1]) + (1 if ysize % block_size[1] > 0 else 0)\n",
    "\n",
    "# 分块处理栅格数据\n",
    "for i in tqdm(range(xblocks)):\n",
    "    for j in range(yblocks):\n",
    "        xoff = i * block_size[0]\n",
    "        yoff = j * block_size[1]\n",
    "        xcount = min(block_size[0], xsize - xoff)\n",
    "        ycount = min(block_size[1], ysize - yoff)\n",
    "        \n",
    "        # 读取一个块的数据\n",
    "        data = band.ReadAsArray(xoff, yoff, xcount, ycount)\n",
    "        \n",
    "        # 修改数据:赋值生态系统服务功能价值\n",
    "        data[data == 1] =   8  #农田  79    \n",
    "        data[data == 2] =   28  #森林 281\n",
    "        data[data == 3] =   28  #灌木 281\n",
    "        data[data == 4] =   12  #草地  117\n",
    "        data[data == 5] =   45    #水体 454\n",
    "        data[data == 6] =   1    #冰雪 14\n",
    "        data[data == 7] =   1  #裸地 14\n",
    "        data[data == 8] =   0    #不透水面 0\n",
    "        data[data == 9] =   55    #湿地 548\n",
    "        # ... 其他修改 ...\n",
    "        \n",
    "        # 将修改后的数据写回到块中\n",
    "        band.WriteArray(data, xoff, yoff)\n",
    "\n",
    "# 将修改保存到文件中\n",
    "ds.FlushCache()\n",
    "\n",
    "# 关闭文件\n",
    "ds = None"
   ]
  },
  {
   "cell_type": "code",
   "execution_count": 3,
   "metadata": {},
   "outputs": [
    {
     "data": {
      "text/plain": [
       "array([ 0,  1, 12, 28, 45, 55], dtype=uint8)"
      ]
     },
     "execution_count": 3,
     "metadata": {},
     "output_type": "execute_result"
    }
   ],
   "source": [
    "ds = gdal.Open('../data/cost_matrix/land_utilization/raw/landuse_raw.tif', gdal.GA_Update)\n",
    "\n",
    "# 读取第一个波段的数据\n",
    "band = ds.GetRasterBand(1)\n",
    "data = band.ReadAsArray()\n",
    "np.unique(data[10000:21000,30000:41000])"
   ]
  },
  {
   "cell_type": "markdown",
   "metadata": {},
   "source": [
    "及时清除变量，释放内存"
   ]
  },
  {
   "cell_type": "code",
   "execution_count": 6,
   "metadata": {},
   "outputs": [
    {
     "data": {
      "text/plain": [
       "811"
      ]
     },
     "execution_count": 6,
     "metadata": {},
     "output_type": "execute_result"
    }
   ],
   "source": [
    "gc.collect()\n"
   ]
  },
  {
   "cell_type": "markdown",
   "metadata": {},
   "source": [
    "qgis-->分区统计-->土地利用因子栅格数据在mesh_intersect矢量数据上的均值"
   ]
  },
  {
   "cell_type": "code",
   "execution_count": 18,
   "metadata": {},
   "outputs": [],
   "source": [
    "landuse_cost_statistic = gpd.read_file('../data/cost_matrix/land_utilization/raw/landuse_ecosystem.geojson'\n",
    ")\n"
   ]
  },
  {
   "cell_type": "code",
   "execution_count": 5,
   "metadata": {},
   "outputs": [
    {
     "data": {
      "text/html": [
       "<div>\n",
       "<style scoped>\n",
       "    .dataframe tbody tr th:only-of-type {\n",
       "        vertical-align: middle;\n",
       "    }\n",
       "\n",
       "    .dataframe tbody tr th {\n",
       "        vertical-align: top;\n",
       "    }\n",
       "\n",
       "    .dataframe thead th {\n",
       "        text-align: right;\n",
       "    }\n",
       "</style>\n",
       "<table border=\"1\" class=\"dataframe\">\n",
       "  <thead>\n",
       "    <tr style=\"text-align: right;\">\n",
       "      <th></th>\n",
       "      <th>fid</th>\n",
       "      <th>left</th>\n",
       "      <th>top</th>\n",
       "      <th>right</th>\n",
       "      <th>bottom</th>\n",
       "      <th>id</th>\n",
       "      <th>area</th>\n",
       "      <th>_mean</th>\n",
       "      <th>geometry</th>\n",
       "    </tr>\n",
       "  </thead>\n",
       "  <tbody>\n",
       "    <tr>\n",
       "      <th>0</th>\n",
       "      <td>1</td>\n",
       "      <td>74.6</td>\n",
       "      <td>37.2</td>\n",
       "      <td>74.8</td>\n",
       "      <td>37.0</td>\n",
       "      <td>0</td>\n",
       "      <td>3.946206e+08</td>\n",
       "      <td>5.657205</td>\n",
       "      <td>POLYGON ((-2563429.04496 4997026.07599, -25474...</td>\n",
       "    </tr>\n",
       "    <tr>\n",
       "      <th>1</th>\n",
       "      <td>2</td>\n",
       "      <td>74.6</td>\n",
       "      <td>37.4</td>\n",
       "      <td>74.8</td>\n",
       "      <td>37.2</td>\n",
       "      <td>1</td>\n",
       "      <td>3.935942e+08</td>\n",
       "      <td>2.765838</td>\n",
       "      <td>POLYGON ((-2555272.95084 5017040.37701, -25393...</td>\n",
       "    </tr>\n",
       "    <tr>\n",
       "      <th>2</th>\n",
       "      <td>3</td>\n",
       "      <td>74.6</td>\n",
       "      <td>38.4</td>\n",
       "      <td>74.8</td>\n",
       "      <td>38.2</td>\n",
       "      <td>2</td>\n",
       "      <td>3.883894e+08</td>\n",
       "      <td>5.742285</td>\n",
       "      <td>POLYGON ((-2514551.79117 5116966.31522, -24988...</td>\n",
       "    </tr>\n",
       "    <tr>\n",
       "      <th>3</th>\n",
       "      <td>4</td>\n",
       "      <td>74.6</td>\n",
       "      <td>38.6</td>\n",
       "      <td>74.8</td>\n",
       "      <td>38.4</td>\n",
       "      <td>3</td>\n",
       "      <td>3.873340e+08</td>\n",
       "      <td>4.871633</td>\n",
       "      <td>POLYGON ((-2506418.79261 5136923.93252, -24907...</td>\n",
       "    </tr>\n",
       "    <tr>\n",
       "      <th>4</th>\n",
       "      <td>5</td>\n",
       "      <td>74.6</td>\n",
       "      <td>38.8</td>\n",
       "      <td>74.8</td>\n",
       "      <td>38.6</td>\n",
       "      <td>4</td>\n",
       "      <td>3.862738e+08</td>\n",
       "      <td>6.455610</td>\n",
       "      <td>POLYGON ((-2498289.32878 5156872.87437, -24826...</td>\n",
       "    </tr>\n",
       "  </tbody>\n",
       "</table>\n",
       "</div>"
      ],
      "text/plain": [
       "   fid  left   top  right  bottom  id          area     _mean   \n",
       "0    1  74.6  37.2   74.8    37.0   0  3.946206e+08  5.657205  \\\n",
       "1    2  74.6  37.4   74.8    37.2   1  3.935942e+08  2.765838   \n",
       "2    3  74.6  38.4   74.8    38.2   2  3.883894e+08  5.742285   \n",
       "3    4  74.6  38.6   74.8    38.4   3  3.873340e+08  4.871633   \n",
       "4    5  74.6  38.8   74.8    38.6   4  3.862738e+08  6.455610   \n",
       "\n",
       "                                            geometry  \n",
       "0  POLYGON ((-2563429.04496 4997026.07599, -25474...  \n",
       "1  POLYGON ((-2555272.95084 5017040.37701, -25393...  \n",
       "2  POLYGON ((-2514551.79117 5116966.31522, -24988...  \n",
       "3  POLYGON ((-2506418.79261 5136923.93252, -24907...  \n",
       "4  POLYGON ((-2498289.32878 5156872.87437, -24826...  "
      ]
     },
     "execution_count": 5,
     "metadata": {},
     "output_type": "execute_result"
    }
   ],
   "source": [
    "landuse_cost_statistic.head()"
   ]
  },
  {
   "cell_type": "markdown",
   "metadata": {},
   "source": [
    "归一化"
   ]
  },
  {
   "cell_type": "markdown",
   "metadata": {},
   "source": [
    "土地的经济价值： http://jer.whu.edu.cn/jjgc/18/2015-09-18/1741.html\n",
    "GDP分布数据：中国GDP空间分布公里网格数据集 数据来源于资源环境科学数据注册与出版系统 http://www.gis5g.com/data/gdpsj?id=262"
   ]
  },
  {
   "cell_type": "code",
   "execution_count": 19,
   "metadata": {},
   "outputs": [
    {
     "data": {
      "text/html": [
       "<div>\n",
       "<style scoped>\n",
       "    .dataframe tbody tr th:only-of-type {\n",
       "        vertical-align: middle;\n",
       "    }\n",
       "\n",
       "    .dataframe tbody tr th {\n",
       "        vertical-align: top;\n",
       "    }\n",
       "\n",
       "    .dataframe thead th {\n",
       "        text-align: right;\n",
       "    }\n",
       "</style>\n",
       "<table border=\"1\" class=\"dataframe\">\n",
       "  <thead>\n",
       "    <tr style=\"text-align: right;\">\n",
       "      <th></th>\n",
       "      <th>fid</th>\n",
       "      <th>left</th>\n",
       "      <th>top</th>\n",
       "      <th>right</th>\n",
       "      <th>bottom</th>\n",
       "      <th>id</th>\n",
       "      <th>area</th>\n",
       "      <th>_mean</th>\n",
       "      <th>geometry</th>\n",
       "    </tr>\n",
       "  </thead>\n",
       "  <tbody>\n",
       "    <tr>\n",
       "      <th>0</th>\n",
       "      <td>1</td>\n",
       "      <td>74.6</td>\n",
       "      <td>37.2</td>\n",
       "      <td>74.8</td>\n",
       "      <td>37.0</td>\n",
       "      <td>0</td>\n",
       "      <td>3.946206e+08</td>\n",
       "      <td>2.858209</td>\n",
       "      <td>POLYGON ((-2563429.04496 4997026.07599, -25474...</td>\n",
       "    </tr>\n",
       "    <tr>\n",
       "      <th>1</th>\n",
       "      <td>2</td>\n",
       "      <td>74.6</td>\n",
       "      <td>37.4</td>\n",
       "      <td>74.8</td>\n",
       "      <td>37.2</td>\n",
       "      <td>1</td>\n",
       "      <td>3.935942e+08</td>\n",
       "      <td>2.294643</td>\n",
       "      <td>POLYGON ((-2555272.95084 5017040.37701, -25393...</td>\n",
       "    </tr>\n",
       "    <tr>\n",
       "      <th>2</th>\n",
       "      <td>3</td>\n",
       "      <td>74.6</td>\n",
       "      <td>38.4</td>\n",
       "      <td>74.8</td>\n",
       "      <td>38.2</td>\n",
       "      <td>2</td>\n",
       "      <td>3.883894e+08</td>\n",
       "      <td>4.200000</td>\n",
       "      <td>POLYGON ((-2514551.79117 5116966.31522, -24988...</td>\n",
       "    </tr>\n",
       "    <tr>\n",
       "      <th>3</th>\n",
       "      <td>4</td>\n",
       "      <td>74.6</td>\n",
       "      <td>38.6</td>\n",
       "      <td>74.8</td>\n",
       "      <td>38.4</td>\n",
       "      <td>3</td>\n",
       "      <td>3.873340e+08</td>\n",
       "      <td>5.671233</td>\n",
       "      <td>POLYGON ((-2506418.79261 5136923.93252, -24907...</td>\n",
       "    </tr>\n",
       "    <tr>\n",
       "      <th>4</th>\n",
       "      <td>5</td>\n",
       "      <td>74.6</td>\n",
       "      <td>38.8</td>\n",
       "      <td>74.8</td>\n",
       "      <td>38.6</td>\n",
       "      <td>4</td>\n",
       "      <td>3.862738e+08</td>\n",
       "      <td>6.468912</td>\n",
       "      <td>POLYGON ((-2498289.32878 5156872.87437, -24826...</td>\n",
       "    </tr>\n",
       "  </tbody>\n",
       "</table>\n",
       "</div>"
      ],
      "text/plain": [
       "   fid  left   top  right  bottom  id          area     _mean   \n",
       "0    1  74.6  37.2   74.8    37.0   0  3.946206e+08  2.858209  \\\n",
       "1    2  74.6  37.4   74.8    37.2   1  3.935942e+08  2.294643   \n",
       "2    3  74.6  38.4   74.8    38.2   2  3.883894e+08  4.200000   \n",
       "3    4  74.6  38.6   74.8    38.4   3  3.873340e+08  5.671233   \n",
       "4    5  74.6  38.8   74.8    38.6   4  3.862738e+08  6.468912   \n",
       "\n",
       "                                            geometry  \n",
       "0  POLYGON ((-2563429.04496 4997026.07599, -25474...  \n",
       "1  POLYGON ((-2555272.95084 5017040.37701, -25393...  \n",
       "2  POLYGON ((-2514551.79117 5116966.31522, -24988...  \n",
       "3  POLYGON ((-2506418.79261 5136923.93252, -24907...  \n",
       "4  POLYGON ((-2498289.32878 5156872.87437, -24826...  "
      ]
     },
     "execution_count": 19,
     "metadata": {},
     "output_type": "execute_result"
    }
   ],
   "source": [
    "GDP_statistic = gpd.read_file('../data/cost_matrix/GDP/GDP_statistic.geojson'\n",
    ")\n",
    "GDP_statistic.head()"
   ]
  },
  {
   "cell_type": "code",
   "execution_count": 4,
   "metadata": {},
   "outputs": [
    {
     "data": {
      "text/plain": [
       "<Axes: ylabel='Frequency'>"
      ]
     },
     "execution_count": 4,
     "metadata": {},
     "output_type": "execute_result"
    },
    {
     "data": {
      "image/png": "[encoded data removed]",
      "text/plain": [
       "<Figure size 640x480 with 1 Axes>"
      ]
     },
     "metadata": {},
     "output_type": "display_data"
    }
   ],
   "source": [
    "GDP_statistic['_mean'].plot.hist(bins=100)  #极值较大，取对数"
   ]
  },
  {
   "cell_type": "code",
   "execution_count": 20,
   "metadata": {},
   "outputs": [],
   "source": [
    "GDP_statistic['_mean'].fillna(method='ffill', inplace=True)   #填充缺失值"
   ]
  },
  {
   "cell_type": "code",
   "execution_count": 11,
   "metadata": {},
   "outputs": [
    {
     "data": {
      "text/plain": [
       "0.0"
      ]
     },
     "execution_count": 11,
     "metadata": {},
     "output_type": "execute_result"
    }
   ],
   "source": [
    "GDP_statistic['_mean'].min()"
   ]
  },
  {
   "cell_type": "code",
   "execution_count": 11,
   "metadata": {},
   "outputs": [
    {
     "data": {
      "text/plain": [
       "<Axes: ylabel='Frequency'>"
      ]
     },
     "execution_count": 11,
     "metadata": {},
     "output_type": "execute_result"
    },
    {
     "data": {
      "image/png": "[encoded data removed]",
      "text/plain": [
       "<Figure size 640x480 with 1 Axes>"
      ]
     },
     "metadata": {},
     "output_type": "display_data"
    }
   ],
   "source": [
    "np.log(GDP_statistic['_mean']+1).plot.hist(bins=100)"
   ]
  },
  {
   "cell_type": "code",
   "execution_count": 21,
   "metadata": {},
   "outputs": [],
   "source": [
    "GDP_statistic['log_mean']=np.log(GDP_statistic['_mean']+1)"
   ]
  },
  {
   "cell_type": "markdown",
   "metadata": {},
   "source": [
    "归一化与合并"
   ]
  },
  {
   "cell_type": "code",
   "execution_count": 22,
   "metadata": {},
   "outputs": [
    {
     "data": {
      "text/html": [
       "<div>\n",
       "<style scoped>\n",
       "    .dataframe tbody tr th:only-of-type {\n",
       "        vertical-align: middle;\n",
       "    }\n",
       "\n",
       "    .dataframe tbody tr th {\n",
       "        vertical-align: top;\n",
       "    }\n",
       "\n",
       "    .dataframe thead th {\n",
       "        text-align: right;\n",
       "    }\n",
       "</style>\n",
       "<table border=\"1\" class=\"dataframe\">\n",
       "  <thead>\n",
       "    <tr style=\"text-align: right;\">\n",
       "      <th></th>\n",
       "      <th>left</th>\n",
       "      <th>top</th>\n",
       "      <th>right</th>\n",
       "      <th>bottom</th>\n",
       "      <th>id</th>\n",
       "      <th>_mean</th>\n",
       "      <th>_stdev</th>\n",
       "      <th>geometry</th>\n",
       "      <th>dem_mean_factor</th>\n",
       "      <th>dem_std_factor</th>\n",
       "      <th>ecosystem_factor</th>\n",
       "      <th>economic_factor</th>\n",
       "    </tr>\n",
       "  </thead>\n",
       "  <tbody>\n",
       "    <tr>\n",
       "      <th>0</th>\n",
       "      <td>74.6</td>\n",
       "      <td>37.2</td>\n",
       "      <td>74.8</td>\n",
       "      <td>37.0</td>\n",
       "      <td>0</td>\n",
       "      <td>4761.751111</td>\n",
       "      <td>360.955229</td>\n",
       "      <td>POLYGON ((74.60000 37.20000, 74.80000 37.20000...</td>\n",
       "      <td>0.791190</td>\n",
       "      <td>0.330536</td>\n",
       "      <td>0.096223</td>\n",
       "      <td>0.109151</td>\n",
       "    </tr>\n",
       "    <tr>\n",
       "      <th>1</th>\n",
       "      <td>74.6</td>\n",
       "      <td>37.4</td>\n",
       "      <td>74.8</td>\n",
       "      <td>37.2</td>\n",
       "      <td>1</td>\n",
       "      <td>4729.630650</td>\n",
       "      <td>474.505025</td>\n",
       "      <td>POLYGON ((74.60000 37.40000, 74.80000 37.40000...</td>\n",
       "      <td>0.786004</td>\n",
       "      <td>0.434617</td>\n",
       "      <td>0.036484</td>\n",
       "      <td>0.096385</td>\n",
       "    </tr>\n",
       "    <tr>\n",
       "      <th>2</th>\n",
       "      <td>74.6</td>\n",
       "      <td>38.4</td>\n",
       "      <td>74.8</td>\n",
       "      <td>38.2</td>\n",
       "      <td>2</td>\n",
       "      <td>4369.292113</td>\n",
       "      <td>265.297540</td>\n",
       "      <td>POLYGON ((74.60000 38.40000, 74.80000 38.40000...</td>\n",
       "      <td>0.727822</td>\n",
       "      <td>0.242855</td>\n",
       "      <td>0.097981</td>\n",
       "      <td>0.133278</td>\n",
       "    </tr>\n",
       "    <tr>\n",
       "      <th>3</th>\n",
       "      <td>74.6</td>\n",
       "      <td>38.6</td>\n",
       "      <td>74.8</td>\n",
       "      <td>38.4</td>\n",
       "      <td>3</td>\n",
       "      <td>4421.485767</td>\n",
       "      <td>261.390972</td>\n",
       "      <td>POLYGON ((74.60000 38.60000, 74.80000 38.60000...</td>\n",
       "      <td>0.736249</td>\n",
       "      <td>0.239274</td>\n",
       "      <td>0.079992</td>\n",
       "      <td>0.153419</td>\n",
       "    </tr>\n",
       "    <tr>\n",
       "      <th>4</th>\n",
       "      <td>74.6</td>\n",
       "      <td>38.8</td>\n",
       "      <td>74.8</td>\n",
       "      <td>38.6</td>\n",
       "      <td>4</td>\n",
       "      <td>4464.096521</td>\n",
       "      <td>323.191762</td>\n",
       "      <td>POLYGON ((74.60000 38.80000, 74.80000 38.80000...</td>\n",
       "      <td>0.743129</td>\n",
       "      <td>0.295921</td>\n",
       "      <td>0.112719</td>\n",
       "      <td>0.162549</td>\n",
       "    </tr>\n",
       "  </tbody>\n",
       "</table>\n",
       "</div>"
      ],
      "text/plain": [
       "   left   top  right  bottom  id        _mean      _stdev   \n",
       "0  74.6  37.2   74.8    37.0   0  4761.751111  360.955229  \\\n",
       "1  74.6  37.4   74.8    37.2   1  4729.630650  474.505025   \n",
       "2  74.6  38.4   74.8    38.2   2  4369.292113  265.297540   \n",
       "3  74.6  38.6   74.8    38.4   3  4421.485767  261.390972   \n",
       "4  74.6  38.8   74.8    38.6   4  4464.096521  323.191762   \n",
       "\n",
       "                                            geometry  dem_mean_factor   \n",
       "0  POLYGON ((74.60000 37.20000, 74.80000 37.20000...         0.791190  \\\n",
       "1  POLYGON ((74.60000 37.40000, 74.80000 37.40000...         0.786004   \n",
       "2  POLYGON ((74.60000 38.40000, 74.80000 38.40000...         0.727822   \n",
       "3  POLYGON ((74.60000 38.60000, 74.80000 38.60000...         0.736249   \n",
       "4  POLYGON ((74.60000 38.80000, 74.80000 38.80000...         0.743129   \n",
       "\n",
       "   dem_std_factor  ecosystem_factor  economic_factor  \n",
       "0        0.330536          0.096223         0.109151  \n",
       "1        0.434617          0.036484         0.096385  \n",
       "2        0.242855          0.097981         0.133278  \n",
       "3        0.239274          0.079992         0.153419  \n",
       "4        0.295921          0.112719         0.162549  "
      ]
     },
     "execution_count": 22,
     "metadata": {},
     "output_type": "execute_result"
    }
   ],
   "source": [
    "def minmax(column):\n",
    "    return (column-column.min())/(column.max()-column.min())\n",
    "mesh_factor=dem.copy()\n",
    "mesh_factor['dem_mean_factor']=minmax(mesh_factor['_mean'])\n",
    "mesh_factor['dem_std_factor']=minmax(mesh_factor['_stdev'])\n",
    "mesh_factor['ecosystem_factor']=minmax(landuse_cost_statistic['_mean'])\n",
    "mesh_factor['economic_factor']=minmax(GDP_statistic['log_mean'])\n",
    "mesh_factor.head()"
   ]
  },
  {
   "cell_type": "code",
   "execution_count": 23,
   "metadata": {},
   "outputs": [],
   "source": [
    "mesh_factor=mesh_factor[['id','left', 'top', 'right', 'bottom','geometry','dem_mean_factor','dem_std_factor','ecosystem_factor','economic_factor']]"
   ]
  },
  {
   "cell_type": "markdown",
   "metadata": {},
   "source": [
    "检查缺失值并填充"
   ]
  },
  {
   "cell_type": "code",
   "execution_count": 24,
   "metadata": {},
   "outputs": [
    {
     "data": {
      "text/plain": [
       "0"
      ]
     },
     "execution_count": 24,
     "metadata": {},
     "output_type": "execute_result"
    }
   ],
   "source": [
    "mesh_factor['dem_mean_factor'].isnull().sum()\n"
   ]
  },
  {
   "cell_type": "code",
   "execution_count": 25,
   "metadata": {},
   "outputs": [
    {
     "data": {
      "text/plain": [
       "0"
      ]
     },
     "execution_count": 25,
     "metadata": {},
     "output_type": "execute_result"
    }
   ],
   "source": [
    "mesh_factor['dem_std_factor'].isnull().sum()"
   ]
  },
  {
   "cell_type": "code",
   "execution_count": 26,
   "metadata": {},
   "outputs": [
    {
     "data": {
      "text/plain": [
       "78"
      ]
     },
     "execution_count": 26,
     "metadata": {},
     "output_type": "execute_result"
    }
   ],
   "source": [
    "mesh_factor['ecosystem_factor'].isnull().sum()"
   ]
  },
  {
   "cell_type": "code",
   "execution_count": 27,
   "metadata": {},
   "outputs": [
    {
     "data": {
      "text/plain": [
       "0"
      ]
     },
     "execution_count": 27,
     "metadata": {},
     "output_type": "execute_result"
    }
   ],
   "source": [
    "mesh_factor['economic_factor'].isnull().sum()"
   ]
  },
  {
   "cell_type": "code",
   "execution_count": 28,
   "metadata": {},
   "outputs": [],
   "source": [
    "mesh_factor['ecosystem_factor'].fillna(method='ffill', inplace=True)"
   ]
  },
  {
   "cell_type": "code",
   "execution_count": 25,
   "metadata": {},
   "outputs": [],
   "source": [
    "mesh_factor.to_csv('../data/cost_matrix/factor_mesh/cost_matrix_3.csv',index=False)\n",
    "#最好不存csv，因为原来的geometry是shapely对象，存csv后会变成字符串，读取后再保存成gpkg需要重新转换"
   ]
  },
  {
   "cell_type": "code",
   "execution_count": 4,
   "metadata": {},
   "outputs": [
    {
     "data": {
      "text/html": [
       "<div>\n",
       "<style scoped>\n",
       "    .dataframe tbody tr th:only-of-type {\n",
       "        vertical-align: middle;\n",
       "    }\n",
       "\n",
       "    .dataframe tbody tr th {\n",
       "        vertical-align: top;\n",
       "    }\n",
       "\n",
       "    .dataframe thead th {\n",
       "        text-align: right;\n",
       "    }\n",
       "</style>\n",
       "<table border=\"1\" class=\"dataframe\">\n",
       "  <thead>\n",
       "    <tr style=\"text-align: right;\">\n",
       "      <th></th>\n",
       "      <th>left</th>\n",
       "      <th>top</th>\n",
       "      <th>right</th>\n",
       "      <th>bottom</th>\n",
       "      <th>geometry</th>\n",
       "      <th>dem_mean_factor</th>\n",
       "      <th>dem_std_factor</th>\n",
       "      <th>ecosystem_factor</th>\n",
       "      <th>economic_factor</th>\n",
       "    </tr>\n",
       "    <tr>\n",
       "      <th>id</th>\n",
       "      <th></th>\n",
       "      <th></th>\n",
       "      <th></th>\n",
       "      <th></th>\n",
       "      <th></th>\n",
       "      <th></th>\n",
       "      <th></th>\n",
       "      <th></th>\n",
       "      <th></th>\n",
       "    </tr>\n",
       "  </thead>\n",
       "  <tbody>\n",
       "    <tr>\n",
       "      <th>0</th>\n",
       "      <td>74.6</td>\n",
       "      <td>37.2</td>\n",
       "      <td>74.8</td>\n",
       "      <td>37.0</td>\n",
       "      <td>POLYGON ((74.6 37.2, 74.8 37.2, 74.8 37, 74.6 ...</td>\n",
       "      <td>0.791190</td>\n",
       "      <td>0.330536</td>\n",
       "      <td>0.096223</td>\n",
       "      <td>0.109151</td>\n",
       "    </tr>\n",
       "    <tr>\n",
       "      <th>1</th>\n",
       "      <td>74.6</td>\n",
       "      <td>37.4</td>\n",
       "      <td>74.8</td>\n",
       "      <td>37.2</td>\n",
       "      <td>POLYGON ((74.6 37.4, 74.8 37.4, 74.8 37.199999...</td>\n",
       "      <td>0.786004</td>\n",
       "      <td>0.434617</td>\n",
       "      <td>0.036484</td>\n",
       "      <td>0.096385</td>\n",
       "    </tr>\n",
       "    <tr>\n",
       "      <th>2</th>\n",
       "      <td>74.6</td>\n",
       "      <td>38.4</td>\n",
       "      <td>74.8</td>\n",
       "      <td>38.2</td>\n",
       "      <td>POLYGON ((74.6 38.4, 74.8 38.4, 74.8 38.199999...</td>\n",
       "      <td>0.727822</td>\n",
       "      <td>0.242855</td>\n",
       "      <td>0.097981</td>\n",
       "      <td>0.133278</td>\n",
       "    </tr>\n",
       "    <tr>\n",
       "      <th>3</th>\n",
       "      <td>74.6</td>\n",
       "      <td>38.6</td>\n",
       "      <td>74.8</td>\n",
       "      <td>38.4</td>\n",
       "      <td>POLYGON ((74.6 38.599999999999994, 74.8 38.599...</td>\n",
       "      <td>0.736249</td>\n",
       "      <td>0.239274</td>\n",
       "      <td>0.079992</td>\n",
       "      <td>0.153419</td>\n",
       "    </tr>\n",
       "    <tr>\n",
       "      <th>4</th>\n",
       "      <td>74.6</td>\n",
       "      <td>38.8</td>\n",
       "      <td>74.8</td>\n",
       "      <td>38.6</td>\n",
       "      <td>POLYGON ((74.6 38.8, 74.8 38.8, 74.8 38.599999...</td>\n",
       "      <td>0.743129</td>\n",
       "      <td>0.295921</td>\n",
       "      <td>0.112719</td>\n",
       "      <td>0.162549</td>\n",
       "    </tr>\n",
       "  </tbody>\n",
       "</table>\n",
       "</div>"
      ],
      "text/plain": [
       "    left   top  right  bottom   \n",
       "id                              \n",
       "0   74.6  37.2   74.8    37.0  \\\n",
       "1   74.6  37.4   74.8    37.2   \n",
       "2   74.6  38.4   74.8    38.2   \n",
       "3   74.6  38.6   74.8    38.4   \n",
       "4   74.6  38.8   74.8    38.6   \n",
       "\n",
       "                                             geometry  dem_mean_factor   \n",
       "id                                                                       \n",
       "0   POLYGON ((74.6 37.2, 74.8 37.2, 74.8 37, 74.6 ...         0.791190  \\\n",
       "1   POLYGON ((74.6 37.4, 74.8 37.4, 74.8 37.199999...         0.786004   \n",
       "2   POLYGON ((74.6 38.4, 74.8 38.4, 74.8 38.199999...         0.727822   \n",
       "3   POLYGON ((74.6 38.599999999999994, 74.8 38.599...         0.736249   \n",
       "4   POLYGON ((74.6 38.8, 74.8 38.8, 74.8 38.599999...         0.743129   \n",
       "\n",
       "    dem_std_factor  ecosystem_factor  economic_factor  \n",
       "id                                                     \n",
       "0         0.330536          0.096223         0.109151  \n",
       "1         0.434617          0.036484         0.096385  \n",
       "2         0.242855          0.097981         0.133278  \n",
       "3         0.239274          0.079992         0.153419  \n",
       "4         0.295921          0.112719         0.162549  "
      ]
     },
     "execution_count": 4,
     "metadata": {},
     "output_type": "execute_result"
    }
   ],
   "source": [
    "mesh_factor=pd.read_csv('../data/cost_matrix/factor_mesh/cost_matrix_3.csv',index_col=0)\n",
    "mesh_factor.head()"
   ]
  },
  {
   "cell_type": "code",
   "execution_count": 29,
   "metadata": {},
   "outputs": [
    {
     "data": {
      "text/html": [
       "<div>\n",
       "<style scoped>\n",
       "    .dataframe tbody tr th:only-of-type {\n",
       "        vertical-align: middle;\n",
       "    }\n",
       "\n",
       "    .dataframe tbody tr th {\n",
       "        vertical-align: top;\n",
       "    }\n",
       "\n",
       "    .dataframe thead th {\n",
       "        text-align: right;\n",
       "    }\n",
       "</style>\n",
       "<table border=\"1\" class=\"dataframe\">\n",
       "  <thead>\n",
       "    <tr style=\"text-align: right;\">\n",
       "      <th></th>\n",
       "      <th>id</th>\n",
       "      <th>left</th>\n",
       "      <th>top</th>\n",
       "      <th>right</th>\n",
       "      <th>bottom</th>\n",
       "      <th>geometry</th>\n",
       "      <th>dem_mean_factor</th>\n",
       "      <th>dem_std_factor</th>\n",
       "      <th>ecosystem_factor</th>\n",
       "      <th>economic_factor</th>\n",
       "      <th>cost_factor</th>\n",
       "    </tr>\n",
       "  </thead>\n",
       "  <tbody>\n",
       "    <tr>\n",
       "      <th>0</th>\n",
       "      <td>0</td>\n",
       "      <td>74.6</td>\n",
       "      <td>37.2</td>\n",
       "      <td>74.8</td>\n",
       "      <td>37.0</td>\n",
       "      <td>POLYGON ((74.60000 37.20000, 74.80000 37.20000...</td>\n",
       "      <td>0.791190</td>\n",
       "      <td>0.330536</td>\n",
       "      <td>0.096223</td>\n",
       "      <td>0.109151</td>\n",
       "      <td>0.285462</td>\n",
       "    </tr>\n",
       "    <tr>\n",
       "      <th>1</th>\n",
       "      <td>1</td>\n",
       "      <td>74.6</td>\n",
       "      <td>37.4</td>\n",
       "      <td>74.8</td>\n",
       "      <td>37.2</td>\n",
       "      <td>POLYGON ((74.60000 37.40000, 74.80000 37.40000...</td>\n",
       "      <td>0.786004</td>\n",
       "      <td>0.434617</td>\n",
       "      <td>0.036484</td>\n",
       "      <td>0.096385</td>\n",
       "      <td>0.322483</td>\n",
       "    </tr>\n",
       "    <tr>\n",
       "      <th>2</th>\n",
       "      <td>2</td>\n",
       "      <td>74.6</td>\n",
       "      <td>38.4</td>\n",
       "      <td>74.8</td>\n",
       "      <td>38.2</td>\n",
       "      <td>POLYGON ((74.60000 38.40000, 74.80000 38.40000...</td>\n",
       "      <td>0.727822</td>\n",
       "      <td>0.242855</td>\n",
       "      <td>0.097981</td>\n",
       "      <td>0.133278</td>\n",
       "      <td>0.240461</td>\n",
       "    </tr>\n",
       "    <tr>\n",
       "      <th>3</th>\n",
       "      <td>3</td>\n",
       "      <td>74.6</td>\n",
       "      <td>38.6</td>\n",
       "      <td>74.8</td>\n",
       "      <td>38.4</td>\n",
       "      <td>POLYGON ((74.60000 38.60000, 74.80000 38.60000...</td>\n",
       "      <td>0.736249</td>\n",
       "      <td>0.239274</td>\n",
       "      <td>0.079992</td>\n",
       "      <td>0.153419</td>\n",
       "      <td>0.239944</td>\n",
       "    </tr>\n",
       "    <tr>\n",
       "      <th>4</th>\n",
       "      <td>4</td>\n",
       "      <td>74.6</td>\n",
       "      <td>38.8</td>\n",
       "      <td>74.8</td>\n",
       "      <td>38.6</td>\n",
       "      <td>POLYGON ((74.60000 38.80000, 74.80000 38.80000...</td>\n",
       "      <td>0.743129</td>\n",
       "      <td>0.295921</td>\n",
       "      <td>0.112719</td>\n",
       "      <td>0.162549</td>\n",
       "      <td>0.277327</td>\n",
       "    </tr>\n",
       "  </tbody>\n",
       "</table>\n",
       "</div>"
      ],
      "text/plain": [
       "   id  left   top  right  bottom   \n",
       "0   0  74.6  37.2   74.8    37.0  \\\n",
       "1   1  74.6  37.4   74.8    37.2   \n",
       "2   2  74.6  38.4   74.8    38.2   \n",
       "3   3  74.6  38.6   74.8    38.4   \n",
       "4   4  74.6  38.8   74.8    38.6   \n",
       "\n",
       "                                            geometry  dem_mean_factor   \n",
       "0  POLYGON ((74.60000 37.20000, 74.80000 37.20000...         0.791190  \\\n",
       "1  POLYGON ((74.60000 37.40000, 74.80000 37.40000...         0.786004   \n",
       "2  POLYGON ((74.60000 38.40000, 74.80000 38.40000...         0.727822   \n",
       "3  POLYGON ((74.60000 38.60000, 74.80000 38.60000...         0.736249   \n",
       "4  POLYGON ((74.60000 38.80000, 74.80000 38.80000...         0.743129   \n",
       "\n",
       "   dem_std_factor  ecosystem_factor  economic_factor  cost_factor  \n",
       "0        0.330536          0.096223         0.109151     0.285462  \n",
       "1        0.434617          0.036484         0.096385     0.322483  \n",
       "2        0.242855          0.097981         0.133278     0.240461  \n",
       "3        0.239274          0.079992         0.153419     0.239944  \n",
       "4        0.295921          0.112719         0.162549     0.277327  "
      ]
     },
     "execution_count": 29,
     "metadata": {},
     "output_type": "execute_result"
    }
   ],
   "source": [
    "mesh_factor['cost_factor']=0.1*mesh_factor['dem_mean_factor']+0.5*mesh_factor['dem_std_factor']+0.2*mesh_factor['ecosystem_factor']+0.2*mesh_factor['economic_factor']\n",
    "mesh_factor.head()"
   ]
  },
  {
   "cell_type": "code",
   "execution_count": 7,
   "metadata": {},
   "outputs": [
    {
     "data": {
      "text/plain": [
       "<Axes: ylabel='Frequency'>"
      ]
     },
     "execution_count": 7,
     "metadata": {},
     "output_type": "execute_result"
    },
    {
     "data": {
      "image/png": "[encoded data removed]",
      "text/plain": [
       "<Figure size 640x480 with 1 Axes>"
      ]
     },
     "metadata": {},
     "output_type": "display_data"
    }
   ],
   "source": [
    "mesh_factor['cost_factor'].plot.hist(bins=100)"
   ]
  },
  {
   "cell_type": "code",
   "execution_count": 6,
   "metadata": {},
   "outputs": [
    {
     "data": {
      "text/plain": [
       "0"
      ]
     },
     "execution_count": 6,
     "metadata": {},
     "output_type": "execute_result"
    }
   ],
   "source": [
    "mesh_factor['cost_factor'].isnull().sum()"
   ]
  },
  {
   "cell_type": "code",
   "execution_count": 30,
   "metadata": {},
   "outputs": [],
   "source": [
    "#上下左右经纬度需要四舍五入\n",
    "mesh_factor['left']=round(mesh_factor['left'],1)\n",
    "mesh_factor['top']=round(mesh_factor['top'],1)\n",
    "mesh_factor['right']=round(mesh_factor['right'],1)\n",
    "mesh_factor['bottom']=round(mesh_factor['bottom'],1)"
   ]
  },
  {
   "cell_type": "markdown",
   "metadata": {},
   "source": [
    "渤海外围网格去除，以防路径走外围"
   ]
  },
  {
   "cell_type": "code",
   "execution_count": 9,
   "metadata": {},
   "outputs": [
    {
     "data": {
      "text/plain": [
       "(25105, 10)"
      ]
     },
     "execution_count": 9,
     "metadata": {},
     "output_type": "execute_result"
    }
   ],
   "source": [
    "mesh_factor.shape"
   ]
  },
  {
   "cell_type": "code",
   "execution_count": 31,
   "metadata": {},
   "outputs": [
    {
     "data": {
      "text/plain": [
       "(25104, 11)"
      ]
     },
     "execution_count": 31,
     "metadata": {},
     "output_type": "execute_result"
    }
   ],
   "source": [
    "mesh_factor=mesh_factor[~((mesh_factor['bottom']==38.4) & (mesh_factor['left']==120.8))]\n",
    "mesh_factor.shape"
   ]
  },
  {
   "cell_type": "markdown",
   "metadata": {},
   "source": [
    "用于qgis可视化"
   ]
  },
  {
   "cell_type": "code",
   "execution_count": 32,
   "metadata": {},
   "outputs": [
    {
     "name": "stdout",
     "output_type": "stream",
     "text": [
      "<class 'geopandas.geoseries.GeoSeries'>\n",
      "Index: 25104 entries, 0 to 25104\n",
      "Series name: geometry\n",
      "Non-Null Count  Dtype   \n",
      "--------------  -----   \n",
      "25104 non-null  geometry\n",
      "dtypes: geometry(1)\n",
      "memory usage: 392.2 KB\n"
     ]
    },
    {
     "data": {
      "text/plain": [
       "0"
      ]
     },
     "execution_count": 32,
     "metadata": {},
     "output_type": "execute_result"
    }
   ],
   "source": [
    "mesh_factor['geometry'].info()\n",
    "is_string = mesh_factor['geometry'].apply(lambda x: isinstance(x, str))\n",
    "is_string.sum()"
   ]
  },
  {
   "cell_type": "code",
   "execution_count": 33,
   "metadata": {},
   "outputs": [],
   "source": [
    "# mesh_factor=gpd.GeoDataFrame(mesh_factor, geometry='geometry')\n",
    "mesh_factor.to_file('../data/cost_matrix/factor_mesh/mesh_factor_3.gpkg', layer='mesh_factor', driver=\"GPKG\")"
   ]
  },
  {
   "cell_type": "markdown",
   "metadata": {},
   "source": [
    "加上省会信息，用于A*"
   ]
  },
  {
   "cell_type": "code",
   "execution_count": 34,
   "metadata": {},
   "outputs": [],
   "source": [
    "def check_value(value):\n",
    "    if value.size == 0 or value == \"\":\n",
    "        raise ValueError(\"值为空，出现错误异常\")\n",
    "\n",
    "def find_limits(number, interval):\n",
    "\n",
    "    lower_limit = round((number // interval) * interval,1)\n",
    "    upper_limit = round(lower_limit + interval,1)\n",
    "    return lower_limit, upper_limit \n",
    "\n",
    "capital_coordination=gpd.read_file('../data/geodata process/gpd_capital_coordination.json')\n",
    "\n",
    "for i in range(len(capital_coordination)):\n",
    "    left,_=find_limits(capital_coordination.loc[i,'longitude'], 0.2)\n",
    "    bottom,_=find_limits(capital_coordination.loc[i,'latitude'], 0.2)\n",
    "    #找到省会坐标对应的网格的索引\n",
    "    index=mesh_factor[np.isclose(mesh_factor['left'],left)&np.isclose(mesh_factor['bottom'],bottom)].index\n",
    "    try:\n",
    "        check_value(index)\n",
    "    except ValueError as e:\n",
    "        print(f\"错误: {e}\")\n",
    "    #将省会名称赋值给对应的网格\n",
    "    mesh_factor.loc[index,'capital']=capital_coordination.loc[i,'index']\n",
    "    \n",
    "    "
   ]
  },
  {
   "cell_type": "code",
   "execution_count": 35,
   "metadata": {},
   "outputs": [
    {
     "name": "stdout",
     "output_type": "stream",
     "text": [
      "<class 'pandas.core.series.Series'>\n",
      "Index: 25104 entries, 0 to 25104\n",
      "Series name: capital\n",
      "Non-Null Count  Dtype \n",
      "--------------  ----- \n",
      "34 non-null     object\n",
      "dtypes: object(1)\n",
      "memory usage: 908.3+ KB\n"
     ]
    }
   ],
   "source": [
    "mesh_factor.capital.info() #capital个数完整"
   ]
  },
  {
   "cell_type": "code",
   "execution_count": 36,
   "metadata": {},
   "outputs": [],
   "source": [
    "cost_matrix=pd.DataFrame(mesh_factor[['id','left','top','right','bottom','cost_factor','capital']])\n",
    "cost_matrix.to_csv('../data/cost_matrix/factor_mesh/cost_matrix_3.csv')"
   ]
  },
  {
   "cell_type": "code",
   "execution_count": 23,
   "metadata": {},
   "outputs": [
    {
     "data": {
      "text/html": [
       "<div>\n",
       "<style scoped>\n",
       "    .dataframe tbody tr th:only-of-type {\n",
       "        vertical-align: middle;\n",
       "    }\n",
       "\n",
       "    .dataframe tbody tr th {\n",
       "        vertical-align: top;\n",
       "    }\n",
       "\n",
       "    .dataframe thead th {\n",
       "        text-align: right;\n",
       "    }\n",
       "</style>\n",
       "<table border=\"1\" class=\"dataframe\">\n",
       "  <thead>\n",
       "    <tr style=\"text-align: right;\">\n",
       "      <th></th>\n",
       "      <th>id</th>\n",
       "      <th>left</th>\n",
       "      <th>top</th>\n",
       "      <th>right</th>\n",
       "      <th>bottom</th>\n",
       "      <th>cost_factor</th>\n",
       "      <th>capital</th>\n",
       "    </tr>\n",
       "  </thead>\n",
       "  <tbody>\n",
       "    <tr>\n",
       "      <th>5314</th>\n",
       "      <td>5314</td>\n",
       "      <td>87.6</td>\n",
       "      <td>43.8</td>\n",
       "      <td>87.8</td>\n",
       "      <td>43.6</td>\n",
       "      <td>0.143745</td>\n",
       "      <td>Xinjiang</td>\n",
       "    </tr>\n",
       "    <tr>\n",
       "      <th>5659</th>\n",
       "      <td>5659</td>\n",
       "      <td>91.0</td>\n",
       "      <td>30.0</td>\n",
       "      <td>91.2</td>\n",
       "      <td>29.8</td>\n",
       "      <td>0.267883</td>\n",
       "      <td>Tibet</td>\n",
       "    </tr>\n",
       "    <tr>\n",
       "      <th>11097</th>\n",
       "      <td>11097</td>\n",
       "      <td>101.6</td>\n",
       "      <td>36.6</td>\n",
       "      <td>101.8</td>\n",
       "      <td>36.4</td>\n",
       "      <td>0.129572</td>\n",
       "      <td>Qinghai</td>\n",
       "    </tr>\n",
       "    <tr>\n",
       "      <th>11395</th>\n",
       "      <td>11395</td>\n",
       "      <td>102.6</td>\n",
       "      <td>25.2</td>\n",
       "      <td>102.8</td>\n",
       "      <td>25.0</td>\n",
       "      <td>0.337125</td>\n",
       "      <td>Yunnan</td>\n",
       "    </tr>\n",
       "    <tr>\n",
       "      <th>12140</th>\n",
       "      <td>12140</td>\n",
       "      <td>104.0</td>\n",
       "      <td>30.8</td>\n",
       "      <td>104.2</td>\n",
       "      <td>30.6</td>\n",
       "      <td>0.309153</td>\n",
       "      <td>Sichuan</td>\n",
       "    </tr>\n",
       "    <tr>\n",
       "      <th>12377</th>\n",
       "      <td>12377</td>\n",
       "      <td>103.6</td>\n",
       "      <td>36.2</td>\n",
       "      <td>103.8</td>\n",
       "      <td>36.0</td>\n",
       "      <td>0.194495</td>\n",
       "      <td>Gansu</td>\n",
       "    </tr>\n",
       "    <tr>\n",
       "      <th>13067</th>\n",
       "      <td>13067</td>\n",
       "      <td>106.2</td>\n",
       "      <td>38.6</td>\n",
       "      <td>106.4</td>\n",
       "      <td>38.4</td>\n",
       "      <td>0.200397</td>\n",
       "      <td>Ningxia</td>\n",
       "    </tr>\n",
       "    <tr>\n",
       "      <th>13327</th>\n",
       "      <td>13327</td>\n",
       "      <td>106.6</td>\n",
       "      <td>26.6</td>\n",
       "      <td>106.8</td>\n",
       "      <td>26.4</td>\n",
       "      <td>0.271913</td>\n",
       "      <td>Guizhou</td>\n",
       "    </tr>\n",
       "    <tr>\n",
       "      <th>13377</th>\n",
       "      <td>13377</td>\n",
       "      <td>106.4</td>\n",
       "      <td>29.6</td>\n",
       "      <td>106.6</td>\n",
       "      <td>29.4</td>\n",
       "      <td>0.337039</td>\n",
       "      <td>Chongqing</td>\n",
       "    </tr>\n",
       "    <tr>\n",
       "      <th>14391</th>\n",
       "      <td>14391</td>\n",
       "      <td>108.2</td>\n",
       "      <td>23.0</td>\n",
       "      <td>108.4</td>\n",
       "      <td>22.8</td>\n",
       "      <td>0.311661</td>\n",
       "      <td>Guangxi</td>\n",
       "    </tr>\n",
       "    <tr>\n",
       "      <th>14861</th>\n",
       "      <td>14861</td>\n",
       "      <td>110.2</td>\n",
       "      <td>20.2</td>\n",
       "      <td>110.4</td>\n",
       "      <td>20.0</td>\n",
       "      <td>0.302318</td>\n",
       "      <td>Hainan</td>\n",
       "    </tr>\n",
       "    <tr>\n",
       "      <th>15185</th>\n",
       "      <td>15185</td>\n",
       "      <td>108.8</td>\n",
       "      <td>34.4</td>\n",
       "      <td>109.0</td>\n",
       "      <td>34.2</td>\n",
       "      <td>0.358179</td>\n",
       "      <td>Shaanxi</td>\n",
       "    </tr>\n",
       "    <tr>\n",
       "      <th>16071</th>\n",
       "      <td>16071</td>\n",
       "      <td>111.6</td>\n",
       "      <td>41.0</td>\n",
       "      <td>111.8</td>\n",
       "      <td>40.8</td>\n",
       "      <td>0.349965</td>\n",
       "      <td>Inner Mongolia</td>\n",
       "    </tr>\n",
       "    <tr>\n",
       "      <th>16748</th>\n",
       "      <td>16748</td>\n",
       "      <td>112.4</td>\n",
       "      <td>38.0</td>\n",
       "      <td>112.6</td>\n",
       "      <td>37.8</td>\n",
       "      <td>0.374615</td>\n",
       "      <td>Shanxi</td>\n",
       "    </tr>\n",
       "    <tr>\n",
       "      <th>16805</th>\n",
       "      <td>16805</td>\n",
       "      <td>112.8</td>\n",
       "      <td>28.4</td>\n",
       "      <td>113.0</td>\n",
       "      <td>28.2</td>\n",
       "      <td>0.254712</td>\n",
       "      <td>Hunan</td>\n",
       "    </tr>\n",
       "    <tr>\n",
       "      <th>16853</th>\n",
       "      <td>16853</td>\n",
       "      <td>113.2</td>\n",
       "      <td>23.2</td>\n",
       "      <td>113.4</td>\n",
       "      <td>23.0</td>\n",
       "      <td>0.347885</td>\n",
       "      <td>Guangdong</td>\n",
       "    </tr>\n",
       "    <tr>\n",
       "      <th>16912</th>\n",
       "      <td>16912</td>\n",
       "      <td>113.4</td>\n",
       "      <td>22.2</td>\n",
       "      <td>113.6</td>\n",
       "      <td>22.0</td>\n",
       "      <td>0.342717</td>\n",
       "      <td>Macao</td>\n",
       "    </tr>\n",
       "    <tr>\n",
       "      <th>17518</th>\n",
       "      <td>17518</td>\n",
       "      <td>114.0</td>\n",
       "      <td>22.2</td>\n",
       "      <td>114.2</td>\n",
       "      <td>22.0</td>\n",
       "      <td>0.393996</td>\n",
       "      <td>Hong Kong</td>\n",
       "    </tr>\n",
       "    <tr>\n",
       "      <th>17729</th>\n",
       "      <td>17729</td>\n",
       "      <td>114.2</td>\n",
       "      <td>30.6</td>\n",
       "      <td>114.4</td>\n",
       "      <td>30.4</td>\n",
       "      <td>0.345221</td>\n",
       "      <td>Hubei</td>\n",
       "    </tr>\n",
       "    <tr>\n",
       "      <th>17995</th>\n",
       "      <td>17995</td>\n",
       "      <td>113.6</td>\n",
       "      <td>34.8</td>\n",
       "      <td>113.8</td>\n",
       "      <td>34.6</td>\n",
       "      <td>0.352531</td>\n",
       "      <td>Henan</td>\n",
       "    </tr>\n",
       "    <tr>\n",
       "      <th>18117</th>\n",
       "      <td>18117</td>\n",
       "      <td>114.4</td>\n",
       "      <td>38.2</td>\n",
       "      <td>114.6</td>\n",
       "      <td>38.0</td>\n",
       "      <td>0.325093</td>\n",
       "      <td>Hebei</td>\n",
       "    </tr>\n",
       "    <tr>\n",
       "      <th>18463</th>\n",
       "      <td>18463</td>\n",
       "      <td>116.8</td>\n",
       "      <td>36.8</td>\n",
       "      <td>117.0</td>\n",
       "      <td>36.6</td>\n",
       "      <td>0.282722</td>\n",
       "      <td>Shandong</td>\n",
       "    </tr>\n",
       "    <tr>\n",
       "      <th>18505</th>\n",
       "      <td>18505</td>\n",
       "      <td>117.0</td>\n",
       "      <td>39.2</td>\n",
       "      <td>117.2</td>\n",
       "      <td>39.0</td>\n",
       "      <td>0.321567</td>\n",
       "      <td>Tianjin</td>\n",
       "    </tr>\n",
       "    <tr>\n",
       "      <th>18713</th>\n",
       "      <td>18713</td>\n",
       "      <td>116.4</td>\n",
       "      <td>40.0</td>\n",
       "      <td>116.6</td>\n",
       "      <td>39.8</td>\n",
       "      <td>0.364374</td>\n",
       "      <td>Beijing</td>\n",
       "    </tr>\n",
       "    <tr>\n",
       "      <th>19176</th>\n",
       "      <td>19176</td>\n",
       "      <td>115.8</td>\n",
       "      <td>28.8</td>\n",
       "      <td>116.0</td>\n",
       "      <td>28.6</td>\n",
       "      <td>0.302792</td>\n",
       "      <td>Jiangxi</td>\n",
       "    </tr>\n",
       "    <tr>\n",
       "      <th>19726</th>\n",
       "      <td>19726</td>\n",
       "      <td>118.6</td>\n",
       "      <td>32.2</td>\n",
       "      <td>118.8</td>\n",
       "      <td>32.0</td>\n",
       "      <td>0.300894</td>\n",
       "      <td>Jiangsu</td>\n",
       "    </tr>\n",
       "    <tr>\n",
       "      <th>20092</th>\n",
       "      <td>20092</td>\n",
       "      <td>117.2</td>\n",
       "      <td>32.0</td>\n",
       "      <td>117.4</td>\n",
       "      <td>31.8</td>\n",
       "      <td>0.298623</td>\n",
       "      <td>Anhui</td>\n",
       "    </tr>\n",
       "    <tr>\n",
       "      <th>20777</th>\n",
       "      <td>20777</td>\n",
       "      <td>119.2</td>\n",
       "      <td>26.2</td>\n",
       "      <td>119.4</td>\n",
       "      <td>26.0</td>\n",
       "      <td>0.442601</td>\n",
       "      <td>Fujian</td>\n",
       "    </tr>\n",
       "    <tr>\n",
       "      <th>20997</th>\n",
       "      <td>20997</td>\n",
       "      <td>120.0</td>\n",
       "      <td>30.4</td>\n",
       "      <td>120.2</td>\n",
       "      <td>30.2</td>\n",
       "      <td>0.335223</td>\n",
       "      <td>Zhejiang</td>\n",
       "    </tr>\n",
       "    <tr>\n",
       "      <th>21341</th>\n",
       "      <td>21341</td>\n",
       "      <td>121.2</td>\n",
       "      <td>25.2</td>\n",
       "      <td>121.4</td>\n",
       "      <td>25.0</td>\n",
       "      <td>0.309138</td>\n",
       "      <td>Taiwan</td>\n",
       "    </tr>\n",
       "    <tr>\n",
       "      <th>21418</th>\n",
       "      <td>21418</td>\n",
       "      <td>121.4</td>\n",
       "      <td>31.4</td>\n",
       "      <td>121.6</td>\n",
       "      <td>31.2</td>\n",
       "      <td>0.377158</td>\n",
       "      <td>Shanghai</td>\n",
       "    </tr>\n",
       "    <tr>\n",
       "      <th>22148</th>\n",
       "      <td>22148</td>\n",
       "      <td>123.2</td>\n",
       "      <td>41.8</td>\n",
       "      <td>123.4</td>\n",
       "      <td>41.6</td>\n",
       "      <td>0.282143</td>\n",
       "      <td>Liaoning</td>\n",
       "    </tr>\n",
       "    <tr>\n",
       "      <th>23344</th>\n",
       "      <td>23344</td>\n",
       "      <td>125.2</td>\n",
       "      <td>44.0</td>\n",
       "      <td>125.4</td>\n",
       "      <td>43.8</td>\n",
       "      <td>0.344584</td>\n",
       "      <td>Jilin</td>\n",
       "    </tr>\n",
       "    <tr>\n",
       "      <th>23557</th>\n",
       "      <td>23557</td>\n",
       "      <td>126.6</td>\n",
       "      <td>45.8</td>\n",
       "      <td>126.8</td>\n",
       "      <td>45.6</td>\n",
       "      <td>0.299454</td>\n",
       "      <td>Heilongjiang</td>\n",
       "    </tr>\n",
       "  </tbody>\n",
       "</table>\n",
       "</div>"
      ],
      "text/plain": [
       "          id   left   top  right  bottom  cost_factor         capital\n",
       "5314    5314   87.6  43.8   87.8    43.6     0.143745        Xinjiang\n",
       "5659    5659   91.0  30.0   91.2    29.8     0.267883           Tibet\n",
       "11097  11097  101.6  36.6  101.8    36.4     0.129572         Qinghai\n",
       "11395  11395  102.6  25.2  102.8    25.0     0.337125          Yunnan\n",
       "12140  12140  104.0  30.8  104.2    30.6     0.309153         Sichuan\n",
       "12377  12377  103.6  36.2  103.8    36.0     0.194495           Gansu\n",
       "13067  13067  106.2  38.6  106.4    38.4     0.200397         Ningxia\n",
       "13327  13327  106.6  26.6  106.8    26.4     0.271913         Guizhou\n",
       "13377  13377  106.4  29.6  106.6    29.4     0.337039       Chongqing\n",
       "14391  14391  108.2  23.0  108.4    22.8     0.311661         Guangxi\n",
       "14861  14861  110.2  20.2  110.4    20.0     0.302318          Hainan\n",
       "15185  15185  108.8  34.4  109.0    34.2     0.358179         Shaanxi\n",
       "16071  16071  111.6  41.0  111.8    40.8     0.349965  Inner Mongolia\n",
       "16748  16748  112.4  38.0  112.6    37.8     0.374615          Shanxi\n",
       "16805  16805  112.8  28.4  113.0    28.2     0.254712           Hunan\n",
       "16853  16853  113.2  23.2  113.4    23.0     0.347885       Guangdong\n",
       "16912  16912  113.4  22.2  113.6    22.0     0.342717           Macao\n",
       "17518  17518  114.0  22.2  114.2    22.0     0.393996       Hong Kong\n",
       "17729  17729  114.2  30.6  114.4    30.4     0.345221           Hubei\n",
       "17995  17995  113.6  34.8  113.8    34.6     0.352531           Henan\n",
       "18117  18117  114.4  38.2  114.6    38.0     0.325093           Hebei\n",
       "18463  18463  116.8  36.8  117.0    36.6     0.282722        Shandong\n",
       "18505  18505  117.0  39.2  117.2    39.0     0.321567         Tianjin\n",
       "18713  18713  116.4  40.0  116.6    39.8     0.364374         Beijing\n",
       "19176  19176  115.8  28.8  116.0    28.6     0.302792         Jiangxi\n",
       "19726  19726  118.6  32.2  118.8    32.0     0.300894         Jiangsu\n",
       "20092  20092  117.2  32.0  117.4    31.8     0.298623           Anhui\n",
       "20777  20777  119.2  26.2  119.4    26.0     0.442601          Fujian\n",
       "20997  20997  120.0  30.4  120.2    30.2     0.335223        Zhejiang\n",
       "21341  21341  121.2  25.2  121.4    25.0     0.309138          Taiwan\n",
       "21418  21418  121.4  31.4  121.6    31.2     0.377158        Shanghai\n",
       "22148  22148  123.2  41.8  123.4    41.6     0.282143        Liaoning\n",
       "23344  23344  125.2  44.0  125.4    43.8     0.344584           Jilin\n",
       "23557  23557  126.6  45.8  126.8    45.6     0.299454    Heilongjiang"
      ]
     },
     "execution_count": 23,
     "metadata": {},
     "output_type": "execute_result"
    }
   ],
   "source": [
    "cost_matrix[~cost_matrix.capital.isnull()]\n"
   ]
  },
  {
   "cell_type": "markdown",
   "metadata": {},
   "source": [
    "18km^2的为中国地形起伏度最佳统计窗口"
   ]
  },
  {
   "cell_type": "markdown",
   "metadata": {},
   "source": [
    "［5］ 程维明周成虎柴慧霞等．中国陆地地貌基本形态类型定量提取与分析［J］．地球信息科学学报200911（16）：725-736．\n",
    "［6］ 郎玲玲程维明朱启疆等．多尺度 DEM 提取地势起伏度的对比分析－－－以福建低山丘陵区为例［J］．地球信息科学2007\n",
    "9（6）：1-7．"
   ]
  }
 ],
 "metadata": {
  "kernelspec": {
   "display_name": "geopy",
   "language": "python",
   "name": "python3"
  },
  "language_info": {
   "codemirror_mode": {
    "name": "ipython",
    "version": 3
   },
   "file_extension": ".py",
   "mimetype": "text/x-python",
   "name": "python",
   "nbconvert_exporter": "python",
   "pygments_lexer": "ipython3",
   "version": "3.10.12"
  },
  "orig_nbformat": 4
 },
 "nbformat": 4,
 "nbformat_minor": 2
}
